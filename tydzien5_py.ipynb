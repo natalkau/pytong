{
  "nbformat": 4,
  "nbformat_minor": 0,
  "metadata": {
    "colab": {
      "provenance": [],
      "authorship_tag": "ABX9TyMIhADTS384JTHH3f1qgFzZ",
      "include_colab_link": true
    },
    "kernelspec": {
      "name": "python3",
      "display_name": "Python 3"
    },
    "language_info": {
      "name": "python"
    }
  },
  "cells": [
    {
      "cell_type": "markdown",
      "metadata": {
        "id": "view-in-github",
        "colab_type": "text"
      },
      "source": [
        "<a href=\"https://colab.research.google.com/github/natalkau/pytong/blob/main/tydzien5_py.ipynb\" target=\"_parent\"><img src=\"https://colab.research.google.com/assets/colab-badge.svg\" alt=\"Open In Colab\"/></a>"
      ]
    },
    {
      "cell_type": "code",
      "execution_count": 1,
      "metadata": {
        "id": "FmAEAy4EoZfY"
      },
      "outputs": [],
      "source": [
        "import numpy as np"
      ]
    },
    {
      "cell_type": "code",
      "source": [
        "print(macierz1)"
      ],
      "metadata": {
        "colab": {
          "base_uri": "https://localhost:8080/"
        },
        "id": "j6gCbFqXqQN9",
        "outputId": "f140a204-5bb2-4c81-cc7f-32f3072b6ae6"
      },
      "execution_count": 11,
      "outputs": [
        {
          "output_type": "stream",
          "name": "stdout",
          "text": [
            "[3 6 0]\n"
          ]
        }
      ]
    },
    {
      "cell_type": "code",
      "source": [
        "macierz2 = np.array([[1,-1],[0,2],[3,8]])\n",
        "macierz1 = np.array([[0, 1, 5],[18, 4, 0.5]])"
      ],
      "metadata": {
        "id": "0sn8CSotqSb0"
      },
      "execution_count": 15,
      "outputs": []
    },
    {
      "cell_type": "code",
      "source": [
        "print(macierz1)\n",
        "print(macierz2)"
      ],
      "metadata": {
        "colab": {
          "base_uri": "https://localhost:8080/"
        },
        "id": "W2Qtkvuvr46I",
        "outputId": "23a54cd0-7606-45de-92b0-98cc3d66f928"
      },
      "execution_count": 16,
      "outputs": [
        {
          "output_type": "stream",
          "name": "stdout",
          "text": [
            "[[ 0.   1.   5. ]\n",
            " [18.   4.   0.5]]\n",
            "[[ 1 -1]\n",
            " [ 0  2]\n",
            " [ 3  8]]\n"
          ]
        }
      ]
    },
    {
      "cell_type": "code",
      "source": [
        "zad2 = np.dot(macierz1,macierz2)\n",
        "print(zad2)"
      ],
      "metadata": {
        "colab": {
          "base_uri": "https://localhost:8080/"
        },
        "id": "FGkpTnpOsL0b",
        "outputId": "5e47a3b0-8ec9-4572-a5eb-22531473b1b5"
      },
      "execution_count": 20,
      "outputs": [
        {
          "output_type": "stream",
          "name": "stdout",
          "text": [
            "[[15.  42. ]\n",
            " [19.5 -6. ]]\n"
          ]
        }
      ]
    },
    {
      "cell_type": "code",
      "source": [
        "A = macierz1\n",
        "B = macierz2\n",
        "print(\"Transponowane A:\")\n",
        "At = A.transpose()\n",
        "print(At)"
      ],
      "metadata": {
        "colab": {
          "base_uri": "https://localhost:8080/"
        },
        "id": "zSlLgCWpsuBa",
        "outputId": "f76cffae-020a-4286-802d-f9a948247716"
      },
      "execution_count": 18,
      "outputs": [
        {
          "output_type": "stream",
          "name": "stdout",
          "text": [
            "Transponowane A:\n",
            "[[ 0.  18. ]\n",
            " [ 1.   4. ]\n",
            " [ 5.   0.5]]\n"
          ]
        }
      ]
    },
    {
      "cell_type": "code",
      "source": [
        "print(\"Transponowane B:\")\n",
        "Bt = B.transpose()\n",
        "print(Bt)"
      ],
      "metadata": {
        "colab": {
          "base_uri": "https://localhost:8080/"
        },
        "id": "TdBystQNthzn",
        "outputId": "1a145521-0171-4427-825b-14d69ba58908"
      },
      "execution_count": 19,
      "outputs": [
        {
          "output_type": "stream",
          "name": "stdout",
          "text": [
            "Transponowane B:\n",
            "[[ 1  0  3]\n",
            " [-1  2  8]]\n"
          ]
        }
      ]
    },
    {
      "cell_type": "code",
      "source": [
        "np.shape(A)"
      ],
      "metadata": {
        "colab": {
          "base_uri": "https://localhost:8080/"
        },
        "id": "Ge3EprHwyL-u",
        "outputId": "ef5f9b6e-f1f0-405c-8f54-84412735f26e"
      },
      "execution_count": 27,
      "outputs": [
        {
          "output_type": "execute_result",
          "data": {
            "text/plain": [
              "(2, 3)"
            ]
          },
          "metadata": {},
          "execution_count": 27
        }
      ]
    },
    {
      "cell_type": "code",
      "source": [
        "np.shape(At)"
      ],
      "metadata": {
        "colab": {
          "base_uri": "https://localhost:8080/"
        },
        "id": "5ylKGO-Byj1D",
        "outputId": "5b8c095f-27f2-4464-e10f-51b7fc58ab7f"
      },
      "execution_count": 28,
      "outputs": [
        {
          "output_type": "execute_result",
          "data": {
            "text/plain": [
              "(3, 2)"
            ]
          },
          "metadata": {},
          "execution_count": 28
        }
      ]
    },
    {
      "cell_type": "code",
      "source": [
        "np.shape(B)"
      ],
      "metadata": {
        "colab": {
          "base_uri": "https://localhost:8080/"
        },
        "id": "ZHS4NHH4ylQh",
        "outputId": "5e2a0582-aa86-49c2-fc59-b1ac5ae149af"
      },
      "execution_count": 29,
      "outputs": [
        {
          "output_type": "execute_result",
          "data": {
            "text/plain": [
              "(3, 2)"
            ]
          },
          "metadata": {},
          "execution_count": 29
        }
      ]
    },
    {
      "cell_type": "code",
      "source": [
        "np.shape(Bt)"
      ],
      "metadata": {
        "colab": {
          "base_uri": "https://localhost:8080/"
        },
        "id": "NyypA56xyoNi",
        "outputId": "4fc79a23-5981-4baa-e928-df366088e994"
      },
      "execution_count": 30,
      "outputs": [
        {
          "output_type": "execute_result",
          "data": {
            "text/plain": [
              "(2, 3)"
            ]
          },
          "metadata": {},
          "execution_count": 30
        }
      ]
    },
    {
      "cell_type": "code",
      "source": [
        "zad4 = np.dot(At,Bt)\n",
        "print(zad4)"
      ],
      "metadata": {
        "colab": {
          "base_uri": "https://localhost:8080/"
        },
        "id": "xK21UY2nv7JI",
        "outputId": "94149d0c-c6c0-4f53-9972-6e4604d9fb6f"
      },
      "execution_count": 25,
      "outputs": [
        {
          "output_type": "stream",
          "name": "stdout",
          "text": [
            "[[-18.   36.  144. ]\n",
            " [ -3.    8.   35. ]\n",
            " [  4.5   1.   19. ]]\n"
          ]
        }
      ]
    },
    {
      "cell_type": "code",
      "source": [
        "np.shape(zad4)"
      ],
      "metadata": {
        "colab": {
          "base_uri": "https://localhost:8080/"
        },
        "id": "GKH-0IFwys9g",
        "outputId": "bca6e45d-4e86-4d45-e256-2ad8b2acf545"
      },
      "execution_count": 31,
      "outputs": [
        {
          "output_type": "execute_result",
          "data": {
            "text/plain": [
              "(3, 3)"
            ]
          },
          "metadata": {},
          "execution_count": 31
        }
      ]
    },
    {
      "cell_type": "code",
      "source": [
        "i = 0\n",
        "j = range(3)\n",
        "print(\"Zadanie 5 (moja wersja demo):\")\n",
        "for i in j:\n",
        "  print(f\"Rzad {i}: {zad4[i]}\")\n",
        "  i += 1"
      ],
      "metadata": {
        "colab": {
          "base_uri": "https://localhost:8080/"
        },
        "id": "m5an4e9VyvYm",
        "outputId": "369ebc0d-5dd2-4435-d217-571dfcaf6ea6"
      },
      "execution_count": 60,
      "outputs": [
        {
          "output_type": "stream",
          "name": "stdout",
          "text": [
            "Zadanie 5 (moja wersja demo):\n",
            "Rzad 0: [-18.  36. 144.]\n",
            "Rzad 1: [-3.  8. 35.]\n",
            "Rzad 2: [ 4.5  1.  19. ]\n"
          ]
        }
      ]
    },
    {
      "cell_type": "code",
      "source": [
        "i = 1\n",
        "print(\"Zadanie 5:\")\n",
        "for rzad in zad4:\n",
        "  print(f\"Rzad {i}: {rzad}\")\n",
        "  i += 1"
      ],
      "metadata": {
        "colab": {
          "base_uri": "https://localhost:8080/"
        },
        "id": "6s00oap46msf",
        "outputId": "91d4dffb-af51-4088-eecf-1550cdfbb2b1"
      },
      "execution_count": 59,
      "outputs": [
        {
          "output_type": "stream",
          "name": "stdout",
          "text": [
            "Zadanie 5:\n",
            "Rzad 1: [-18.  36. 144.]\n",
            "Rzad 2: [-3.  8. 35.]\n",
            "Rzad 3: [ 4.5  1.  19. ]\n"
          ]
        }
      ]
    },
    {
      "cell_type": "code",
      "source": [
        "print(At)\n",
        "Att = At.transpose()\n",
        "print(Att)\n",
        "print(\"Zadanie 6:\")\n",
        "i = 0\n",
        "j = range(2)\n",
        "for i in j:\n",
        "  print(f\"Rzad {i}: {Att[i]}\")"
      ],
      "metadata": {
        "colab": {
          "base_uri": "https://localhost:8080/"
        },
        "id": "POTASZvy0VAi",
        "outputId": "3e73bac0-0a49-4d51-af51-de1083d6bc66"
      },
      "execution_count": 57,
      "outputs": [
        {
          "output_type": "stream",
          "name": "stdout",
          "text": [
            "[[ 0.  18. ]\n",
            " [ 1.   4. ]\n",
            " [ 5.   0.5]]\n",
            "[[ 0.   1.   5. ]\n",
            " [18.   4.   0.5]]\n",
            "Zadanie 6:\n",
            "Rzad 0: [0. 1. 5.]\n",
            "Rzad 1: [18.   4.   0.5]\n"
          ]
        }
      ]
    },
    {
      "cell_type": "code",
      "source": [
        "print(\"zadanie 7:\")\n",
        "print(\"Macierz A:\")\n",
        "print(A)\n",
        "print(\"Macierz B:\")\n",
        "print(B)\n",
        "try:\n",
        "  suma = A + B\n",
        "  print(suma)\n",
        "except ValueError:\n",
        "  print(\"Nie da sie ;/\")\n",
        "  print(\"Rodzaj bledu: ValueError\")\n",
        "  exit(-1)\n",
        "finally:\n",
        "  print(\"Macierze musza miec ten sam shape\")"
      ],
      "metadata": {
        "colab": {
          "base_uri": "https://localhost:8080/"
        },
        "id": "c_XOVM2A2lJ9",
        "outputId": "d4dfa7ed-163c-4a17-d973-9ca3d6dace8e"
      },
      "execution_count": 50,
      "outputs": [
        {
          "output_type": "stream",
          "name": "stdout",
          "text": [
            "zadanie 7:\n",
            "Macierz A:\n",
            "[[ 0.   1.   5. ]\n",
            " [18.   4.   0.5]]\n",
            "Macierz B:\n",
            "[[ 1 -1]\n",
            " [ 0  2]\n",
            " [ 3  8]]\n",
            "Nie da sie ;/\n",
            "Rodzaj bledu: ValueError\n",
            "Macierze musza miec ten sam shape\n"
          ]
        }
      ]
    },
    {
      "cell_type": "code",
      "source": [
        "print(\"Zadanie 8:\")\n",
        "try:\n",
        "  suma = A + B\n",
        "  print(suma)\n",
        "except ValueError:\n",
        "  print(\"Zrobilam to juz w zadaniu wyzej xd\")\n",
        "  AB = np.dot(A,B)\n",
        "  print(AB)\n",
        "  print(zad4)\n",
        "  try:\n",
        "    np.dot(AB, zad4)\n",
        "  except ValueError:\n",
        "    print(\"Nie da sie ich pomnozyc\")\n",
        "    exit(-1)\n",
        "  exit(-1)"
      ],
      "metadata": {
        "colab": {
          "base_uri": "https://localhost:8080/"
        },
        "id": "Rcfwx6sE5x6e",
        "outputId": "c1d6d7cc-8771-4b95-b1c8-b2e9cc0e8f4b"
      },
      "execution_count": 65,
      "outputs": [
        {
          "output_type": "stream",
          "name": "stdout",
          "text": [
            "Zadanie 8:\n",
            "Zrobilam to juz w zadaniu wyzej xd\n",
            "[[15.  42. ]\n",
            " [19.5 -6. ]]\n",
            "[[-18.   36.  144. ]\n",
            " [ -3.    8.   35. ]\n",
            " [  4.5   1.   19. ]]\n",
            "Nie da sie ich pomnozyc\n"
          ]
        }
      ]
    },
    {
      "cell_type": "code",
      "source": [
        "print(\"Zadanie 9:\")\n",
        "x = input(\"Wprowadz pierwsza liczbe:\")\n",
        "dzialanie = input(\"Jesli chcesz pomnozyc, napisz 'x'. Jesli chcesz podzielic, napisz'/'. Jesli chcesz dodac, napisz '+'. Jesli chcesz odjac, napisz '-':\")\n",
        "y = input(\"Wprowadz druga liczbe:\")\n",
        "x_num = int(x)\n",
        "y_num = int(y)\n",
        "if 'x' in dzialanie:\n",
        "  print(x_num*y_num)\n",
        "elif '/' in dzialanie:\n",
        "  if y_num == 0:\n",
        "    print(\"Nie mozna dzielic przez 0\")\n",
        "  else:\n",
        "    print(x_num/y_num)\n",
        "elif '+' in dzialanie:\n",
        "  print(x_num+y_num)\n",
        "elif '-' in dzialanie:\n",
        "  print(x_num-y_num)"
      ],
      "metadata": {
        "colab": {
          "base_uri": "https://localhost:8080/",
          "height": 317
        },
        "id": "J9DuWjOt9AAE",
        "outputId": "5fad2db0-3282-4ba3-f249-ef59ca7e9838"
      },
      "execution_count": 68,
      "outputs": [
        {
          "name": "stdout",
          "output_type": "stream",
          "text": [
            "Zadanie 9:\n",
            "Wprowadz pierwsza liczbe:t\n",
            "Jesli chcesz pomnozyc, napisz 'x'. Jesli chcesz podzielic, napisz'/'. Jesli chcesz dodac, napisz '+'. Jesli chcesz odjac, napisz '-':+\n",
            "Wprowadz druga liczbe:x\n"
          ]
        },
        {
          "output_type": "error",
          "ename": "ValueError",
          "evalue": "invalid literal for int() with base 10: 't'",
          "traceback": [
            "\u001b[0;31m---------------------------------------------------------------------------\u001b[0m",
            "\u001b[0;31mValueError\u001b[0m                                Traceback (most recent call last)",
            "\u001b[0;32m<ipython-input-68-1eed50eb02b6>\u001b[0m in \u001b[0;36m<cell line: 5>\u001b[0;34m()\u001b[0m\n\u001b[1;32m      3\u001b[0m \u001b[0mdzialanie\u001b[0m \u001b[0;34m=\u001b[0m \u001b[0minput\u001b[0m\u001b[0;34m(\u001b[0m\u001b[0;34m\"Jesli chcesz pomnozyc, napisz 'x'. Jesli chcesz podzielic, napisz'/'. Jesli chcesz dodac, napisz '+'. Jesli chcesz odjac, napisz '-':\"\u001b[0m\u001b[0;34m)\u001b[0m\u001b[0;34m\u001b[0m\u001b[0;34m\u001b[0m\u001b[0m\n\u001b[1;32m      4\u001b[0m \u001b[0my\u001b[0m \u001b[0;34m=\u001b[0m \u001b[0minput\u001b[0m\u001b[0;34m(\u001b[0m\u001b[0;34m\"Wprowadz druga liczbe:\"\u001b[0m\u001b[0;34m)\u001b[0m\u001b[0;34m\u001b[0m\u001b[0;34m\u001b[0m\u001b[0m\n\u001b[0;32m----> 5\u001b[0;31m \u001b[0mx_num\u001b[0m \u001b[0;34m=\u001b[0m \u001b[0mint\u001b[0m\u001b[0;34m(\u001b[0m\u001b[0mx\u001b[0m\u001b[0;34m)\u001b[0m\u001b[0;34m\u001b[0m\u001b[0;34m\u001b[0m\u001b[0m\n\u001b[0m\u001b[1;32m      6\u001b[0m \u001b[0my_num\u001b[0m \u001b[0;34m=\u001b[0m \u001b[0mint\u001b[0m\u001b[0;34m(\u001b[0m\u001b[0my\u001b[0m\u001b[0;34m)\u001b[0m\u001b[0;34m\u001b[0m\u001b[0;34m\u001b[0m\u001b[0m\n\u001b[1;32m      7\u001b[0m \u001b[0;32mif\u001b[0m \u001b[0;34m'x'\u001b[0m \u001b[0;32min\u001b[0m \u001b[0mdzialanie\u001b[0m\u001b[0;34m:\u001b[0m\u001b[0;34m\u001b[0m\u001b[0;34m\u001b[0m\u001b[0m\n",
            "\u001b[0;31mValueError\u001b[0m: invalid literal for int() with base 10: 't'"
          ]
        }
      ]
    },
    {
      "cell_type": "code",
      "source": [],
      "metadata": {
        "id": "Qou80VOu_1m-"
      },
      "execution_count": null,
      "outputs": []
    }
  ]
}