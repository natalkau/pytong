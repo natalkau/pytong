{
 "cells": [
  {
   "cell_type": "code",
   "execution_count": 1,
   "id": "254beafd-b65a-457a-a0ce-b637ac105cfe",
   "metadata": {},
   "outputs": [
    {
     "name": "stdout",
     "output_type": "stream",
     "text": [
      "Dzien_dobry\n"
     ]
    }
   ],
   "source": [
    "print(\"Dzien_dobry\")"
   ]
  },
  {
   "cell_type": "code",
   "execution_count": 2,
   "id": "b392e51a-c17c-44fe-8419-39e88806d117",
   "metadata": {},
   "outputs": [],
   "source": [
    "name=\"Natalia\"\n",
    "age=23\n",
    "sport=\"jazda konna\""
   ]
  },
  {
   "cell_type": "code",
   "execution_count": 9,
   "id": "48906d75-7bee-43ac-95ec-1d2e4546c664",
   "metadata": {},
   "outputs": [
    {
     "name": "stdout",
     "output_type": "stream",
     "text": [
      "Czesc, jestem Natalia. Mam 23 lat. Moim ulubionym sportem jest jazda konna.\n"
     ]
    }
   ],
   "source": [
    "print(f\"Czesc, jestem {name}. Mam {age} lat. Moim ulubionym sportem jest {sport}.\")"
   ]
  },
  {
   "cell_type": "code",
   "execution_count": 14,
   "id": "134a4a99-8c1a-4022-bf62-853666d637db",
   "metadata": {},
   "outputs": [
    {
     "name": "stdout",
     "output_type": "stream",
     "text": [
      "Czesc, jestem Natalia . Mam 23 lat. Moim ulubionym sportem jest jazda konna .\n"
     ]
    }
   ],
   "source": [
    "print(\"Czesc, jestem\", name, \". Mam\", age, \"lat. Moim ulubionym sportem jest\", sport,\".\")"
   ]
  },
  {
   "cell_type": "code",
   "execution_count": 10,
   "id": "035b761c-db86-45f1-a5ef-7775bd199396",
   "metadata": {},
   "outputs": [
    {
     "name": "stdout",
     "output_type": "stream",
     "text": [
      "Czesc, jestem Natalia. Mam 23 lat. Moim ulubionym sportem jest jazda konna.\n"
     ]
    }
   ],
   "source": [
    "print(f\"Czesc, jestem {name}. Mam {age} lat. Moim ulubionym sportem jest {sport}.\")"
   ]
  },
  {
   "cell_type": "code",
   "execution_count": 25,
   "id": "9bd59f27-811f-402f-81f2-b6520c28d61e",
   "metadata": {},
   "outputs": [
    {
     "name": "stdout",
     "output_type": "stream",
     "text": [
      "Hejka, \n",
      "Czesc, jestem Natalia. Mam 23 lat. Moim ulubionym sportem jest jazda konna.\n"
     ]
    }
   ],
   "source": [
    "print(f\"Hejka, \\nCzesc, jestem {name}. Mam {age} lat. Moim ulubionym sportem jest {sport}.\")"
   ]
  },
  {
   "cell_type": "code",
   "execution_count": 26,
   "id": "dedee5ad-cf9f-4fa2-8ae2-75c8fcdf4f61",
   "metadata": {},
   "outputs": [
    {
     "name": "stdout",
     "output_type": "stream",
     "text": [
      "16\n"
     ]
    }
   ],
   "source": [
    "str_num1=16\n",
    "print(str_num1)"
   ]
  },
  {
   "cell_type": "code",
   "execution_count": 28,
   "id": "a2d5c158-f660-49f0-881e-45df49a84174",
   "metadata": {},
   "outputs": [
    {
     "name": "stdout",
     "output_type": "stream",
     "text": [
      "70\n"
     ]
    }
   ],
   "source": [
    "str_num2=70\n",
    "print(str_num2)"
   ]
  },
  {
   "cell_type": "code",
   "execution_count": 29,
   "id": "0a539e2f-40b6-40a3-99bb-02d265100c69",
   "metadata": {},
   "outputs": [],
   "source": [
    "I_know_that=str_num1+str_num2"
   ]
  },
  {
   "cell_type": "code",
   "execution_count": 30,
   "id": "490dd1c6-af53-4150-8270-07466537d2a2",
   "metadata": {},
   "outputs": [
    {
     "name": "stdout",
     "output_type": "stream",
     "text": [
      "86\n"
     ]
    }
   ],
   "source": [
    "print(I_know_that)"
   ]
  },
  {
   "cell_type": "code",
   "execution_count": 31,
   "id": "02ef4d6a-eafc-414b-a927-4bfdfd8b6d91",
   "metadata": {},
   "outputs": [
    {
     "name": "stdout",
     "output_type": "stream",
     "text": [
      "Zadanie 1, \n",
      "Czesc, jestem Natalia. Mam 23 lat. Moim ulubionym sportem jest jazda konna.\n"
     ]
    }
   ],
   "source": [
    "print(f\"Zadanie 1, \\nCzesc, jestem {name}. Mam {age} lat. Moim ulubionym sportem jest {sport}.\")"
   ]
  },
  {
   "cell_type": "code",
   "execution_count": 35,
   "id": "0a11c90f-f27d-45a8-b670-9ff2edacf42c",
   "metadata": {},
   "outputs": [
    {
     "name": "stdout",
     "output_type": "stream",
     "text": [
      "Zadanie 2 \n",
      "a) \n",
      "zmienna 1 = 16 \n",
      "zmienna 2 = 70 \n",
      "I_know_that = 86\n"
     ]
    }
   ],
   "source": [
    "print(f\"Zadanie 2 \\na) \\nzmienna 1 = {str_num1} \\nzmienna 2 = {str_num2} \\nI_know_that = {I_know_that}\")"
   ]
  },
  {
   "cell_type": "code",
   "execution_count": 36,
   "id": "de11e248-a891-4fd3-ab20-d7babf0ea71f",
   "metadata": {},
   "outputs": [
    {
     "ename": "TypeError",
     "evalue": "unsupported operand type(s) for +: 'int' and 'str'",
     "output_type": "error",
     "traceback": [
      "\u001b[0;31m---------------------------------------------------------------------------\u001b[0m",
      "\u001b[0;31mTypeError\u001b[0m                                 Traceback (most recent call last)",
      "Cell \u001b[0;32mIn[36], line 3\u001b[0m\n\u001b[1;32m      1\u001b[0m number1\u001b[38;5;241m=\u001b[39m\u001b[38;5;241m5\u001b[39m\n\u001b[1;32m      2\u001b[0m number2\u001b[38;5;241m=\u001b[39m\u001b[38;5;124m\"\u001b[39m\u001b[38;5;124m5\u001b[39m\u001b[38;5;124m\"\u001b[39m\n\u001b[0;32m----> 3\u001b[0m i_need_a_cup_of_coffee\u001b[38;5;241m=\u001b[39m\u001b[43mnumber1\u001b[49m\u001b[38;5;241;43m+\u001b[39;49m\u001b[43mnumber2\u001b[49m\n\u001b[1;32m      4\u001b[0m \u001b[38;5;28mprint\u001b[39m(i_need_a_cup_of_coffee)\n",
      "\u001b[0;31mTypeError\u001b[0m: unsupported operand type(s) for +: 'int' and 'str'"
     ]
    }
   ],
   "source": [
    "number1=5\n",
    "number2=\"5\"\n",
    "i_need_a_cup_of_coffee=number1+number2\n",
    "print(i_need_a_cup_of_coffee)"
   ]
  },
  {
   "cell_type": "code",
   "execution_count": 37,
   "id": "f61e222c-ab3e-4209-9ccc-eb691d9ed389",
   "metadata": {},
   "outputs": [
    {
     "name": "stdout",
     "output_type": "stream",
     "text": [
      "niedobrze\n"
     ]
    }
   ],
   "source": [
    "print(\"niedobrze\")"
   ]
  },
  {
   "cell_type": "code",
   "execution_count": 42,
   "id": "32c165bd-ec07-41b4-8ac8-3c118c32e47d",
   "metadata": {},
   "outputs": [
    {
     "ename": "TypeError",
     "evalue": "unsupported operand type(s) for +: 'int' and 'str'",
     "output_type": "error",
     "traceback": [
      "\u001b[0;31m---------------------------------------------------------------------------\u001b[0m",
      "\u001b[0;31mTypeError\u001b[0m                                 Traceback (most recent call last)",
      "Cell \u001b[0;32mIn[42], line 1\u001b[0m\n\u001b[0;32m----> 1\u001b[0m \u001b[38;5;28mprint\u001b[39m(\u001b[38;5;124mf\u001b[39m\u001b[38;5;124m\"\u001b[39m\u001b[38;5;124mZadanie 2 \u001b[39m\u001b[38;5;130;01m\\n\u001b[39;00m\u001b[38;5;124ma) \u001b[39m\u001b[38;5;130;01m\\n\u001b[39;00m\u001b[38;5;124mzmienna 1 = \u001b[39m\u001b[38;5;132;01m{\u001b[39;00mstr_num1\u001b[38;5;132;01m}\u001b[39;00m\u001b[38;5;124m \u001b[39m\u001b[38;5;130;01m\\n\u001b[39;00m\u001b[38;5;124mzmienna 2 = \u001b[39m\u001b[38;5;132;01m{\u001b[39;00mstr_num2\u001b[38;5;132;01m}\u001b[39;00m\u001b[38;5;124m \u001b[39m\u001b[38;5;130;01m\\n\u001b[39;00m\u001b[38;5;124mI_know_that = \u001b[39m\u001b[38;5;132;01m{\u001b[39;00mI_know_that\u001b[38;5;132;01m}\u001b[39;00m\u001b[38;5;124m \u001b[39m\u001b[38;5;130;01m\\n\u001b[39;00m\u001b[38;5;124mb) \u001b[39m\u001b[38;5;130;01m\\n\u001b[39;00m\u001b[38;5;124mnumber1=\u001b[39m\u001b[38;5;132;01m{\u001b[39;00m\u001b[38;5;241m5\u001b[39m\u001b[38;5;132;01m}\u001b[39;00m\u001b[38;5;124m \u001b[39m\u001b[38;5;130;01m\\n\u001b[39;00m\u001b[38;5;124mnumber2 = \u001b[39m\u001b[38;5;132;01m{\u001b[39;00mnumber2\u001b[38;5;132;01m}\u001b[39;00m\u001b[38;5;124m \u001b[39m\u001b[38;5;130;01m\\n\u001b[39;00m\u001b[38;5;124mi_need_a_cup_of_coffee=\u001b[39m\u001b[38;5;132;01m{\u001b[39;00m\u001b[43mnumber1\u001b[49m\u001b[38;5;241;43m+\u001b[39;49m\u001b[43mnumber2\u001b[49m\u001b[38;5;132;01m}\u001b[39;00m\u001b[38;5;124m \u001b[39m\u001b[38;5;130;01m\\n\u001b[39;00m\u001b[38;5;124mprint(i_need_a_cup_of_coffee)\u001b[39m\u001b[38;5;124m\"\u001b[39m)\n",
      "\u001b[0;31mTypeError\u001b[0m: unsupported operand type(s) for +: 'int' and 'str'"
     ]
    }
   ],
   "source": [
    "print(f\"Zadanie 2 \\na) \\nzmienna 1 = {str_num1} \\nzmienna 2 = {str_num2} \\nI_know_that = {I_know_that} \\nb) \\nnumber1={5} \\nnumber2 = {number2} \\ni_need_a_cup_of_coffee={number1+number2} \\nprint(i_need_a_cup_of_coffee)\")"
   ]
  },
  {
   "cell_type": "code",
   "execution_count": 43,
   "id": "eb1dfc9d-d974-41a6-a0a6-e736212ccae3",
   "metadata": {},
   "outputs": [
    {
     "name": "stdout",
     "output_type": "stream",
     "text": [
      "['jezyk polski', 'matematyka', 'religia']\n"
     ]
    }
   ],
   "source": [
    "subjects = [\"jezyk polski\", \"matematyka\", \"religia\"]\n",
    "print(subjects)"
   ]
  },
  {
   "cell_type": "code",
   "execution_count": 46,
   "id": "8898457a-5800-4a95-94ac-9b6ac21db246",
   "metadata": {},
   "outputs": [
    {
     "name": "stdout",
     "output_type": "stream",
     "text": [
      "['angielski', 'przyroda', 'jezyk polski', 'matematyka', 'religia']\n"
     ]
    }
   ],
   "source": [
    "new_subjects = [\"angielski\", \"przyroda\"]\n",
    "new_subjects = new_subjects + subjects\n",
    "print(new_subjects)"
   ]
  },
  {
   "cell_type": "code",
   "execution_count": 47,
   "id": "e257b33a-01b7-4f98-8a78-682e2e257585",
   "metadata": {},
   "outputs": [
    {
     "name": "stdout",
     "output_type": "stream",
     "text": [
      "['angielski', 'przyroda', 'jezyk indonezyjski', 'matematyka', 'religia']\n"
     ]
    }
   ],
   "source": [
    "new_subjects[2]=\"jezyk indonezyjski\"\n",
    "print(new_subjects)"
   ]
  },
  {
   "cell_type": "code",
   "execution_count": 48,
   "id": "729dd26d-5a43-4646-8e94-e51bc173d7c8",
   "metadata": {},
   "outputs": [
    {
     "name": "stdout",
     "output_type": "stream",
     "text": [
      "5\n"
     ]
    }
   ],
   "source": [
    "ilosc_przedmiotow=len(new_subjects)\n",
    "print(ilosc_przedmiotow)"
   ]
  },
  {
   "cell_type": "code",
   "execution_count": 50,
   "id": "0ea0b3db-e785-4cec-a7ad-506ddb835bbe",
   "metadata": {},
   "outputs": [
    {
     "name": "stdout",
     "output_type": "stream",
     "text": [
      "['angielski', 'przyroda', 'jezyk indonezyjski', 'matematyka']\n"
     ]
    }
   ],
   "source": [
    "new_subjects.remove(\"religia\")\n",
    "print(new_subjects)"
   ]
  },
  {
   "cell_type": "code",
   "execution_count": 51,
   "id": "b854a7a4-bfd0-41b5-b1ad-109a94970efe",
   "metadata": {},
   "outputs": [
    {
     "name": "stdout",
     "output_type": "stream",
     "text": [
      "[]\n"
     ]
    }
   ],
   "source": [
    "new_subjects.clear()\n",
    "print(new_subjects)"
   ]
  },
  {
   "cell_type": "code",
   "execution_count": null,
   "id": "adce6558-867d-4727-948e-9caaa0dae27d",
   "metadata": {},
   "outputs": [],
   "source": []
  }
 ],
 "metadata": {
  "kernelspec": {
   "display_name": "Python 3 (ipykernel)",
   "language": "python",
   "name": "python3"
  },
  "language_info": {
   "codemirror_mode": {
    "name": "ipython",
    "version": 3
   },
   "file_extension": ".py",
   "mimetype": "text/x-python",
   "name": "python",
   "nbconvert_exporter": "python",
   "pygments_lexer": "ipython3",
   "version": "3.10.12"
  }
 },
 "nbformat": 4,
 "nbformat_minor": 5
}
