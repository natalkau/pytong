{
 "cells": [
  {
   "cell_type": "code",
   "execution_count": 1,
   "id": "910df569-68ea-453d-94e3-15db2206ee65",
   "metadata": {},
   "outputs": [],
   "source": [
    "lager=['rzeski','jasny','lekki']\n",
    "pils=['jasny','gorzki','srednio-mocny']\n",
    "porter=['gorzki','mocny','ciemny']\n",
    "stout=['ciemny','kawowy','bogaty']\n",
    "bezalkoholowe=['owocowy','lekki','bezalkoholowy']\n",
    "ale=['lekki','owocowy','kwiatowy']\n"
   ]
  },
  {
   "cell_type": "code",
   "execution_count": 2,
   "id": "f6734cdd-d1b6-4b8e-a51d-6b1bd98fb99c",
   "metadata": {},
   "outputs": [],
   "source": [
    "moje_piwo=['ciemny','gorzki','mocny']"
   ]
  },
  {
   "cell_type": "code",
   "execution_count": 3,
   "id": "df9f91a0-b2e1-4877-985c-f829f32a32c2",
   "metadata": {},
   "outputs": [],
   "source": [
    "lista_piw=['lager','pils','porter','stout','bezalkoholowe','ale']"
   ]
  },
  {
   "cell_type": "code",
   "execution_count": 15,
   "id": "f90ffc8b-f783-41ec-a153-e3d9225c88a8",
   "metadata": {},
   "outputs": [
    {
     "name": "stdout",
     "output_type": "stream",
     "text": [
      "Mamy piwo!\n"
     ]
    }
   ],
   "source": [
    "if 'porter' in lista_piw:\n",
    "    print('Mamy piwo!')\n",
    "else:\n",
    "    print('Nie ma piwa')"
   ]
  },
  {
   "cell_type": "code",
   "execution_count": 16,
   "id": "ddd47d33-9558-459a-a1a8-a1c9995e16ff",
   "metadata": {},
   "outputs": [],
   "source": [
    "zbior_piw=[lager,pils,porter,stout,bezalkoholowe,ale]\n",
    "    "
   ]
  },
  {
   "cell_type": "code",
   "execution_count": 17,
   "id": "98289b16-c3d0-453b-a1d2-a2d8cec30cbf",
   "metadata": {},
   "outputs": [
    {
     "name": "stdout",
     "output_type": "stream",
     "text": [
      "Biore portera\n"
     ]
    }
   ],
   "source": [
    "if 'gorzki' and 'ciemny' and 'mocny' in zbior_piw[0]:\n",
    "    print ('Biore lagera')\n",
    "elif 'gorzki' and 'ciemny' and 'mocny' in zbior_piw[1]:\n",
    "    print ('Biore pilsa')\n",
    "elif 'gorzki' and 'ciemny' and 'mocny' in zbior_piw[2]:\n",
    "    print ('Biore portera')\n",
    "elif 'gorzki' and 'ciemny' and 'mocny' in zbior_piw[3]:\n",
    "    print ('Biore stouta??')\n",
    "elif 'gorzki' and 'ciemny' and 'mocny' in zbior_piw[4]:\n",
    "    print ('Biore bezalko')\n",
    "elif 'gorzki' and 'ciemny' and 'mocny' in zbior_piw[5]:\n",
    "    print ('Biore ale')"
   ]
  },
  {
   "cell_type": "code",
   "execution_count": 18,
   "id": "951606b9-45b8-404f-999a-c36f8e208ff3",
   "metadata": {},
   "outputs": [
    {
     "name": "stdout",
     "output_type": "stream",
     "text": [
      "\u001b[H\u001b[2J"
     ]
    }
   ],
   "source": [
    "clear(moje_piwo)"
   ]
  },
  {
   "cell_type": "code",
   "execution_count": 25,
   "id": "08c33f19-e656-4218-9936-65ee0b4e3065",
   "metadata": {},
   "outputs": [],
   "source": [
    "puby={\n",
    "    'Pub1':['zywiec','perla','konska dawka'],\n",
    "    'Pub2':['gaska beerbika','specjal'],\n",
    "    'Pub3':['cos tam','orkiszowe z czosnkiem','ucho od sledzia'],\n",
    "    'Pub4':['zywiec','fabrykanckie swinie']\n",
    "}"
   ]
  },
  {
   "cell_type": "code",
   "execution_count": 26,
   "id": "58222b4d-9c98-42ed-875c-254747275369",
   "metadata": {},
   "outputs": [],
   "source": [
    "moje_piwo='ucho od sledzia'"
   ]
  },
  {
   "cell_type": "code",
   "execution_count": 29,
   "id": "32e23d91-424e-4803-a376-169fa74008f7",
   "metadata": {},
   "outputs": [],
   "source": [
    "nazwy_pub=list(puby.keys())"
   ]
  },
  {
   "cell_type": "code",
   "execution_count": 31,
   "id": "12a2598d-35a5-4c60-a390-79552e61ec9d",
   "metadata": {},
   "outputs": [
    {
     "name": "stdout",
     "output_type": "stream",
     "text": [
      "Masz 0 lat.\n",
      "nie mozesz kupic piwa\n",
      "Masz 1 lat.\n",
      "nie mozesz kupic piwa\n",
      "Masz 2 lat.\n",
      "nie mozesz kupic piwa\n",
      "Masz 3 lat.\n",
      "nie mozesz kupic piwa\n",
      "Masz 4 lat.\n",
      "nie mozesz kupic piwa\n",
      "Masz 5 lat.\n",
      "nie mozesz kupic piwa\n",
      "Masz 6 lat.\n",
      "nie mozesz kupic piwa\n",
      "Masz 7 lat.\n",
      "nie mozesz kupic piwa\n",
      "Masz 8 lat.\n",
      "nie mozesz kupic piwa\n",
      "Masz 9 lat.\n",
      "nie mozesz kupic piwa\n",
      "Masz 10 lat.\n",
      "nie mozesz kupic piwa\n",
      "Masz 11 lat.\n",
      "nie mozesz kupic piwa\n",
      "Masz 12 lat.\n",
      "nie mozesz kupic piwa\n",
      "Masz 13 lat.\n",
      "nie mozesz kupic piwa\n",
      "Masz 14 lat.\n",
      "nie mozesz kupic piwa\n",
      "Masz 15 lat.\n",
      "nie mozesz kupic piwa\n",
      "Masz 16 lat.\n",
      "nie mozesz kupic piwa\n",
      "Masz 17 lat.\n",
      "nie mozesz kupic piwa\n"
     ]
    }
   ],
   "source": [
    "\n",
    "for wiek in range (18):\n",
    "    print(f\"Masz {wiek} lat.\")\n",
    "    print(\"nie mozesz kupic piwa\")"
   ]
  },
  {
   "cell_type": "code",
   "execution_count": 35,
   "id": "b62a2b9a-49d1-4dd8-938e-2e880b01858c",
   "metadata": {},
   "outputs": [
    {
     "name": "stdout",
     "output_type": "stream",
     "text": [
      "Sprzedam ci\n",
      "Nie sprzedam\n"
     ]
    }
   ],
   "source": [
    "def sprawdz_wiek(wiek):\n",
    "    if wiek>=18:\n",
    "        print(\"Sprzedam ci\")\n",
    "    elif wiek<18:\n",
    "        print(\"Nie sprzedam\")\n",
    "sprawdz_wiek(20)\n",
    "sprawdz_wiek(15)"
   ]
  },
  {
   "cell_type": "code",
   "execution_count": null,
   "id": "7f603626-b80a-4827-a2bf-518b5142b2de",
   "metadata": {},
   "outputs": [],
   "source": []
  }
 ],
 "metadata": {
  "kernelspec": {
   "display_name": "Python 3 (ipykernel)",
   "language": "python",
   "name": "python3"
  },
  "language_info": {
   "codemirror_mode": {
    "name": "ipython",
    "version": 3
   },
   "file_extension": ".py",
   "mimetype": "text/x-python",
   "name": "python",
   "nbconvert_exporter": "python",
   "pygments_lexer": "ipython3",
   "version": "3.10.12"
  }
 },
 "nbformat": 4,
 "nbformat_minor": 5
}
